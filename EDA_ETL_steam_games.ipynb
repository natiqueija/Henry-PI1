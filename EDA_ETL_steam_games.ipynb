{
 "cells": [
  {
   "cell_type": "markdown",
   "metadata": {},
   "source": [
    "# Librerías"
   ]
  },
  {
   "cell_type": "code",
   "execution_count": 1,
   "metadata": {},
   "outputs": [],
   "source": [
    "import json\n",
    "import pandas as pd\n",
    "import numpy as np\n",
    "import re\n",
    "import matplotlib.pyplot as plt"
   ]
  },
  {
   "cell_type": "markdown",
   "metadata": {},
   "source": [
    "# Creamos el DataFrame\n",
    "\n",
    "## Descargamos el json\n",
    "\n",
    "Para eso leemos el archivo output_steam_games.json con la libreria json y lo convertimos en un DataFrame de pandas para poder manejarlo"
   ]
  },
  {
   "cell_type": "code",
   "execution_count": 2,
   "metadata": {},
   "outputs": [],
   "source": [
    "output_sg = []\n",
    "with open('output_steam_games.json', 'r') as file:\n",
    "    for line in file:\n",
    "        k = json.loads(line)\n",
    "        output_sg.append(k)\n",
    "\n",
    "steam_games_original = pd.DataFrame(output_sg)"
   ]
  },
  {
   "cell_type": "markdown",
   "metadata": {},
   "source": [
    "Creamos una copia para poder manejarla con mayor tranquilidad y por cualquier error no tener que descargar nuevamente los datos"
   ]
  },
  {
   "cell_type": "code",
   "execution_count": 3,
   "metadata": {},
   "outputs": [],
   "source": [
    "steam_games = steam_games_original.copy()"
   ]
  },
  {
   "cell_type": "markdown",
   "metadata": {},
   "source": [
    "Hacemos una primera revision de los datos, para saber cantidad de registros y datos vacíos."
   ]
  },
  {
   "cell_type": "code",
   "execution_count": 4,
   "metadata": {},
   "outputs": [
    {
     "name": "stdout",
     "output_type": "stream",
     "text": [
      "Formato del DataFrame: (120445, 13)\n",
      "<class 'pandas.core.frame.DataFrame'>\n",
      "RangeIndex: 120445 entries, 0 to 120444\n",
      "Data columns (total 13 columns):\n",
      " #   Column        Non-Null Count  Dtype \n",
      "---  ------        --------------  ----- \n",
      " 0   publisher     24083 non-null  object\n",
      " 1   genres        28852 non-null  object\n",
      " 2   app_name      32133 non-null  object\n",
      " 3   title         30085 non-null  object\n",
      " 4   url           32135 non-null  object\n",
      " 5   release_date  30068 non-null  object\n",
      " 6   tags          31972 non-null  object\n",
      " 7   reviews_url   32133 non-null  object\n",
      " 8   specs         31465 non-null  object\n",
      " 9   price         30758 non-null  object\n",
      " 10  early_access  32135 non-null  object\n",
      " 11  id            32133 non-null  object\n",
      " 12  developer     28836 non-null  object\n",
      "dtypes: object(13)\n",
      "memory usage: 11.9+ MB\n"
     ]
    }
   ],
   "source": [
    "print(f'Formato del DataFrame: {steam_games.shape}')\n",
    "steam_games.info()"
   ]
  },
  {
   "cell_type": "code",
   "execution_count": 5,
   "metadata": {},
   "outputs": [
    {
     "data": {
      "text/html": [
       "<div>\n",
       "<style scoped>\n",
       "    .dataframe tbody tr th:only-of-type {\n",
       "        vertical-align: middle;\n",
       "    }\n",
       "\n",
       "    .dataframe tbody tr th {\n",
       "        vertical-align: top;\n",
       "    }\n",
       "\n",
       "    .dataframe thead th {\n",
       "        text-align: right;\n",
       "    }\n",
       "</style>\n",
       "<table border=\"1\" class=\"dataframe\">\n",
       "  <thead>\n",
       "    <tr style=\"text-align: right;\">\n",
       "      <th></th>\n",
       "      <th>publisher</th>\n",
       "      <th>genres</th>\n",
       "      <th>app_name</th>\n",
       "      <th>title</th>\n",
       "      <th>url</th>\n",
       "      <th>release_date</th>\n",
       "      <th>tags</th>\n",
       "      <th>reviews_url</th>\n",
       "      <th>specs</th>\n",
       "      <th>price</th>\n",
       "      <th>early_access</th>\n",
       "      <th>id</th>\n",
       "      <th>developer</th>\n",
       "    </tr>\n",
       "  </thead>\n",
       "  <tbody>\n",
       "    <tr>\n",
       "      <th>0</th>\n",
       "      <td>NaN</td>\n",
       "      <td>NaN</td>\n",
       "      <td>NaN</td>\n",
       "      <td>NaN</td>\n",
       "      <td>NaN</td>\n",
       "      <td>NaN</td>\n",
       "      <td>NaN</td>\n",
       "      <td>NaN</td>\n",
       "      <td>NaN</td>\n",
       "      <td>NaN</td>\n",
       "      <td>NaN</td>\n",
       "      <td>NaN</td>\n",
       "      <td>NaN</td>\n",
       "    </tr>\n",
       "    <tr>\n",
       "      <th>1</th>\n",
       "      <td>NaN</td>\n",
       "      <td>NaN</td>\n",
       "      <td>NaN</td>\n",
       "      <td>NaN</td>\n",
       "      <td>NaN</td>\n",
       "      <td>NaN</td>\n",
       "      <td>NaN</td>\n",
       "      <td>NaN</td>\n",
       "      <td>NaN</td>\n",
       "      <td>NaN</td>\n",
       "      <td>NaN</td>\n",
       "      <td>NaN</td>\n",
       "      <td>NaN</td>\n",
       "    </tr>\n",
       "    <tr>\n",
       "      <th>2</th>\n",
       "      <td>NaN</td>\n",
       "      <td>NaN</td>\n",
       "      <td>NaN</td>\n",
       "      <td>NaN</td>\n",
       "      <td>NaN</td>\n",
       "      <td>NaN</td>\n",
       "      <td>NaN</td>\n",
       "      <td>NaN</td>\n",
       "      <td>NaN</td>\n",
       "      <td>NaN</td>\n",
       "      <td>NaN</td>\n",
       "      <td>NaN</td>\n",
       "      <td>NaN</td>\n",
       "    </tr>\n",
       "    <tr>\n",
       "      <th>3</th>\n",
       "      <td>NaN</td>\n",
       "      <td>NaN</td>\n",
       "      <td>NaN</td>\n",
       "      <td>NaN</td>\n",
       "      <td>NaN</td>\n",
       "      <td>NaN</td>\n",
       "      <td>NaN</td>\n",
       "      <td>NaN</td>\n",
       "      <td>NaN</td>\n",
       "      <td>NaN</td>\n",
       "      <td>NaN</td>\n",
       "      <td>NaN</td>\n",
       "      <td>NaN</td>\n",
       "    </tr>\n",
       "    <tr>\n",
       "      <th>4</th>\n",
       "      <td>NaN</td>\n",
       "      <td>NaN</td>\n",
       "      <td>NaN</td>\n",
       "      <td>NaN</td>\n",
       "      <td>NaN</td>\n",
       "      <td>NaN</td>\n",
       "      <td>NaN</td>\n",
       "      <td>NaN</td>\n",
       "      <td>NaN</td>\n",
       "      <td>NaN</td>\n",
       "      <td>NaN</td>\n",
       "      <td>NaN</td>\n",
       "      <td>NaN</td>\n",
       "    </tr>\n",
       "  </tbody>\n",
       "</table>\n",
       "</div>"
      ],
      "text/plain": [
       "  publisher genres app_name title  url release_date tags reviews_url specs  \\\n",
       "0       NaN    NaN      NaN   NaN  NaN          NaN  NaN         NaN   NaN   \n",
       "1       NaN    NaN      NaN   NaN  NaN          NaN  NaN         NaN   NaN   \n",
       "2       NaN    NaN      NaN   NaN  NaN          NaN  NaN         NaN   NaN   \n",
       "3       NaN    NaN      NaN   NaN  NaN          NaN  NaN         NaN   NaN   \n",
       "4       NaN    NaN      NaN   NaN  NaN          NaN  NaN         NaN   NaN   \n",
       "\n",
       "  price early_access   id developer  \n",
       "0   NaN          NaN  NaN       NaN  \n",
       "1   NaN          NaN  NaN       NaN  \n",
       "2   NaN          NaN  NaN       NaN  \n",
       "3   NaN          NaN  NaN       NaN  \n",
       "4   NaN          NaN  NaN       NaN  "
      ]
     },
     "execution_count": 5,
     "metadata": {},
     "output_type": "execute_result"
    }
   ],
   "source": [
    "steam_games.head()"
   ]
  },
  {
   "cell_type": "markdown",
   "metadata": {},
   "source": [
    "Nos damos cuenta que los primeros 88310 registros de la tabla no tienen ninguna información, por lo que decidimos eliminarlos.\n",
    "Luego reseteamos el index para dejar prolijo el DataFrame."
   ]
  },
  {
   "cell_type": "code",
   "execution_count": 6,
   "metadata": {},
   "outputs": [],
   "source": [
    "steam_games.drop(index=steam_games.index[:88310], inplace=True)\n",
    "\n",
    "steam_games.reset_index(drop=True, inplace=True)"
   ]
  },
  {
   "cell_type": "code",
   "execution_count": 7,
   "metadata": {},
   "outputs": [
    {
     "name": "stdout",
     "output_type": "stream",
     "text": [
      "Formato del DataFrame: (32135, 13)\n",
      "<class 'pandas.core.frame.DataFrame'>\n",
      "RangeIndex: 32135 entries, 0 to 32134\n",
      "Data columns (total 13 columns):\n",
      " #   Column        Non-Null Count  Dtype \n",
      "---  ------        --------------  ----- \n",
      " 0   publisher     24083 non-null  object\n",
      " 1   genres        28852 non-null  object\n",
      " 2   app_name      32133 non-null  object\n",
      " 3   title         30085 non-null  object\n",
      " 4   url           32135 non-null  object\n",
      " 5   release_date  30068 non-null  object\n",
      " 6   tags          31972 non-null  object\n",
      " 7   reviews_url   32133 non-null  object\n",
      " 8   specs         31465 non-null  object\n",
      " 9   price         30758 non-null  object\n",
      " 10  early_access  32135 non-null  object\n",
      " 11  id            32133 non-null  object\n",
      " 12  developer     28836 non-null  object\n",
      "dtypes: object(13)\n",
      "memory usage: 3.2+ MB\n"
     ]
    }
   ],
   "source": [
    "print(f'Formato del DataFrame: {steam_games.shape}')\n",
    "steam_games.info()"
   ]
  },
  {
   "cell_type": "code",
   "execution_count": 8,
   "metadata": {},
   "outputs": [
    {
     "data": {
      "text/html": [
       "<div>\n",
       "<style scoped>\n",
       "    .dataframe tbody tr th:only-of-type {\n",
       "        vertical-align: middle;\n",
       "    }\n",
       "\n",
       "    .dataframe tbody tr th {\n",
       "        vertical-align: top;\n",
       "    }\n",
       "\n",
       "    .dataframe thead th {\n",
       "        text-align: right;\n",
       "    }\n",
       "</style>\n",
       "<table border=\"1\" class=\"dataframe\">\n",
       "  <thead>\n",
       "    <tr style=\"text-align: right;\">\n",
       "      <th></th>\n",
       "      <th>publisher</th>\n",
       "      <th>genres</th>\n",
       "      <th>app_name</th>\n",
       "      <th>title</th>\n",
       "      <th>url</th>\n",
       "      <th>release_date</th>\n",
       "      <th>tags</th>\n",
       "      <th>reviews_url</th>\n",
       "      <th>specs</th>\n",
       "      <th>price</th>\n",
       "      <th>early_access</th>\n",
       "      <th>id</th>\n",
       "      <th>developer</th>\n",
       "    </tr>\n",
       "  </thead>\n",
       "  <tbody>\n",
       "    <tr>\n",
       "      <th>0</th>\n",
       "      <td>Kotoshiro</td>\n",
       "      <td>[Action, Casual, Indie, Simulation, Strategy]</td>\n",
       "      <td>Lost Summoner Kitty</td>\n",
       "      <td>Lost Summoner Kitty</td>\n",
       "      <td>http://store.steampowered.com/app/761140/Lost_...</td>\n",
       "      <td>2018-01-04</td>\n",
       "      <td>[Strategy, Action, Indie, Casual, Simulation]</td>\n",
       "      <td>http://steamcommunity.com/app/761140/reviews/?...</td>\n",
       "      <td>[Single-player]</td>\n",
       "      <td>4.99</td>\n",
       "      <td>False</td>\n",
       "      <td>761140</td>\n",
       "      <td>Kotoshiro</td>\n",
       "    </tr>\n",
       "    <tr>\n",
       "      <th>1</th>\n",
       "      <td>Making Fun, Inc.</td>\n",
       "      <td>[Free to Play, Indie, RPG, Strategy]</td>\n",
       "      <td>Ironbound</td>\n",
       "      <td>Ironbound</td>\n",
       "      <td>http://store.steampowered.com/app/643980/Ironb...</td>\n",
       "      <td>2018-01-04</td>\n",
       "      <td>[Free to Play, Strategy, Indie, RPG, Card Game...</td>\n",
       "      <td>http://steamcommunity.com/app/643980/reviews/?...</td>\n",
       "      <td>[Single-player, Multi-player, Online Multi-Pla...</td>\n",
       "      <td>Free To Play</td>\n",
       "      <td>False</td>\n",
       "      <td>643980</td>\n",
       "      <td>Secret Level SRL</td>\n",
       "    </tr>\n",
       "  </tbody>\n",
       "</table>\n",
       "</div>"
      ],
      "text/plain": [
       "          publisher                                         genres  \\\n",
       "0         Kotoshiro  [Action, Casual, Indie, Simulation, Strategy]   \n",
       "1  Making Fun, Inc.           [Free to Play, Indie, RPG, Strategy]   \n",
       "\n",
       "              app_name                title  \\\n",
       "0  Lost Summoner Kitty  Lost Summoner Kitty   \n",
       "1            Ironbound            Ironbound   \n",
       "\n",
       "                                                 url release_date  \\\n",
       "0  http://store.steampowered.com/app/761140/Lost_...   2018-01-04   \n",
       "1  http://store.steampowered.com/app/643980/Ironb...   2018-01-04   \n",
       "\n",
       "                                                tags  \\\n",
       "0      [Strategy, Action, Indie, Casual, Simulation]   \n",
       "1  [Free to Play, Strategy, Indie, RPG, Card Game...   \n",
       "\n",
       "                                         reviews_url  \\\n",
       "0  http://steamcommunity.com/app/761140/reviews/?...   \n",
       "1  http://steamcommunity.com/app/643980/reviews/?...   \n",
       "\n",
       "                                               specs         price  \\\n",
       "0                                    [Single-player]          4.99   \n",
       "1  [Single-player, Multi-player, Online Multi-Pla...  Free To Play   \n",
       "\n",
       "  early_access      id         developer  \n",
       "0        False  761140         Kotoshiro  \n",
       "1        False  643980  Secret Level SRL  "
      ]
     },
     "execution_count": 8,
     "metadata": {},
     "output_type": "execute_result"
    }
   ],
   "source": [
    "steam_games.head(2)"
   ]
  },
  {
   "cell_type": "markdown",
   "metadata": {},
   "source": [
    "Eliminamos las columnas innecesarias para este proyecto"
   ]
  },
  {
   "cell_type": "code",
   "execution_count": 9,
   "metadata": {},
   "outputs": [],
   "source": [
    "steam_games.drop(columns=['publisher','app_name','url','tags','reviews_url','specs','early_access'], inplace=True)"
   ]
  },
  {
   "cell_type": "code",
   "execution_count": 10,
   "metadata": {},
   "outputs": [
    {
     "data": {
      "text/html": [
       "<div>\n",
       "<style scoped>\n",
       "    .dataframe tbody tr th:only-of-type {\n",
       "        vertical-align: middle;\n",
       "    }\n",
       "\n",
       "    .dataframe tbody tr th {\n",
       "        vertical-align: top;\n",
       "    }\n",
       "\n",
       "    .dataframe thead th {\n",
       "        text-align: right;\n",
       "    }\n",
       "</style>\n",
       "<table border=\"1\" class=\"dataframe\">\n",
       "  <thead>\n",
       "    <tr style=\"text-align: right;\">\n",
       "      <th></th>\n",
       "      <th>genres</th>\n",
       "      <th>title</th>\n",
       "      <th>release_date</th>\n",
       "      <th>price</th>\n",
       "      <th>id</th>\n",
       "      <th>developer</th>\n",
       "    </tr>\n",
       "  </thead>\n",
       "  <tbody>\n",
       "    <tr>\n",
       "      <th>0</th>\n",
       "      <td>[Action, Casual, Indie, Simulation, Strategy]</td>\n",
       "      <td>Lost Summoner Kitty</td>\n",
       "      <td>2018-01-04</td>\n",
       "      <td>4.99</td>\n",
       "      <td>761140</td>\n",
       "      <td>Kotoshiro</td>\n",
       "    </tr>\n",
       "    <tr>\n",
       "      <th>1</th>\n",
       "      <td>[Free to Play, Indie, RPG, Strategy]</td>\n",
       "      <td>Ironbound</td>\n",
       "      <td>2018-01-04</td>\n",
       "      <td>Free To Play</td>\n",
       "      <td>643980</td>\n",
       "      <td>Secret Level SRL</td>\n",
       "    </tr>\n",
       "  </tbody>\n",
       "</table>\n",
       "</div>"
      ],
      "text/plain": [
       "                                          genres                title  \\\n",
       "0  [Action, Casual, Indie, Simulation, Strategy]  Lost Summoner Kitty   \n",
       "1           [Free to Play, Indie, RPG, Strategy]            Ironbound   \n",
       "\n",
       "  release_date         price      id         developer  \n",
       "0   2018-01-04          4.99  761140         Kotoshiro  \n",
       "1   2018-01-04  Free To Play  643980  Secret Level SRL  "
      ]
     },
     "execution_count": 10,
     "metadata": {},
     "output_type": "execute_result"
    }
   ],
   "source": [
    "steam_games.head(2)"
   ]
  },
  {
   "cell_type": "markdown",
   "metadata": {},
   "source": [
    "Reordenamos las columnas"
   ]
  },
  {
   "cell_type": "code",
   "execution_count": 11,
   "metadata": {},
   "outputs": [],
   "source": [
    "steam_games = steam_games[['id', 'developer', 'title', 'genres', 'release_date', 'price']]"
   ]
  },
  {
   "cell_type": "markdown",
   "metadata": {},
   "source": [
    "Le cambiamos el nombre a la columna id para estandarizar"
   ]
  },
  {
   "cell_type": "code",
   "execution_count": 12,
   "metadata": {},
   "outputs": [],
   "source": [
    "steam_games = steam_games.rename(columns={'id':'item_id'})"
   ]
  },
  {
   "cell_type": "markdown",
   "metadata": {},
   "source": [
    "# Columna release_date\n",
    "\n",
    "Para este proyecto nos interesa unicamente el dato del anio de lanzamiento. Por esto, creamos una funcion que al ingresar la columna me devuelva una lista de valores con los primeros 4 digitos (correspondientes al anio). En caso de que no encuentre esos 4 digitos devuelve NaN."
   ]
  },
  {
   "cell_type": "code",
   "execution_count": 13,
   "metadata": {},
   "outputs": [],
   "source": [
    "def extraccion_anio(columna):\n",
    "    # Lista para almacenar los resultados procesados\n",
    "    resultados = []\n",
    "    \n",
    "    for line in columna:\n",
    "        if isinstance(line, str) and line[:4].isdigit():\n",
    "            # Si comienza con 4 números consecutivos, dejar solo esos números\n",
    "            resultados.append(int(line[:4]))\n",
    "        else:\n",
    "            # Si no comienza con 4 números consecutivos, transformar en NaN\n",
    "            resultados.append(np.nan)\n",
    "    \n",
    "    return resultados"
   ]
  },
  {
   "cell_type": "markdown",
   "metadata": {},
   "source": [
    "Pasamos la columna release_date por la funcion y que nos devuelva los valores en una nueva columna llamada release_year.\n",
    "Como solo necesitamos el anio, eliminamos entonces la columna release_date."
   ]
  },
  {
   "cell_type": "code",
   "execution_count": 14,
   "metadata": {},
   "outputs": [],
   "source": [
    "steam_games['release_year'] = extraccion_anio(steam_games['release_date'])\n",
    "steam_games = steam_games.drop(columns=['release_date'], axis=1)"
   ]
  },
  {
   "cell_type": "code",
   "execution_count": 15,
   "metadata": {},
   "outputs": [
    {
     "data": {
      "text/html": [
       "<div>\n",
       "<style scoped>\n",
       "    .dataframe tbody tr th:only-of-type {\n",
       "        vertical-align: middle;\n",
       "    }\n",
       "\n",
       "    .dataframe tbody tr th {\n",
       "        vertical-align: top;\n",
       "    }\n",
       "\n",
       "    .dataframe thead th {\n",
       "        text-align: right;\n",
       "    }\n",
       "</style>\n",
       "<table border=\"1\" class=\"dataframe\">\n",
       "  <thead>\n",
       "    <tr style=\"text-align: right;\">\n",
       "      <th></th>\n",
       "      <th>item_id</th>\n",
       "      <th>developer</th>\n",
       "      <th>title</th>\n",
       "      <th>genres</th>\n",
       "      <th>price</th>\n",
       "      <th>release_year</th>\n",
       "    </tr>\n",
       "  </thead>\n",
       "  <tbody>\n",
       "    <tr>\n",
       "      <th>0</th>\n",
       "      <td>761140</td>\n",
       "      <td>Kotoshiro</td>\n",
       "      <td>Lost Summoner Kitty</td>\n",
       "      <td>[Action, Casual, Indie, Simulation, Strategy]</td>\n",
       "      <td>4.99</td>\n",
       "      <td>2018.0</td>\n",
       "    </tr>\n",
       "    <tr>\n",
       "      <th>1</th>\n",
       "      <td>643980</td>\n",
       "      <td>Secret Level SRL</td>\n",
       "      <td>Ironbound</td>\n",
       "      <td>[Free to Play, Indie, RPG, Strategy]</td>\n",
       "      <td>Free To Play</td>\n",
       "      <td>2018.0</td>\n",
       "    </tr>\n",
       "  </tbody>\n",
       "</table>\n",
       "</div>"
      ],
      "text/plain": [
       "  item_id         developer                title  \\\n",
       "0  761140         Kotoshiro  Lost Summoner Kitty   \n",
       "1  643980  Secret Level SRL            Ironbound   \n",
       "\n",
       "                                          genres         price  release_year  \n",
       "0  [Action, Casual, Indie, Simulation, Strategy]          4.99        2018.0  \n",
       "1           [Free to Play, Indie, RPG, Strategy]  Free To Play        2018.0  "
      ]
     },
     "execution_count": 15,
     "metadata": {},
     "output_type": "execute_result"
    }
   ],
   "source": [
    "steam_games.head(2)"
   ]
  },
  {
   "cell_type": "markdown",
   "metadata": {},
   "source": [
    "# Columna item_id\n",
    "\n",
    "Examinamos si hay datos vacios y duplicados en el DataFrame\n",
    "\n",
    "## Vacios"
   ]
  },
  {
   "cell_type": "code",
   "execution_count": 16,
   "metadata": {},
   "outputs": [
    {
     "data": {
      "text/html": [
       "<div>\n",
       "<style scoped>\n",
       "    .dataframe tbody tr th:only-of-type {\n",
       "        vertical-align: middle;\n",
       "    }\n",
       "\n",
       "    .dataframe tbody tr th {\n",
       "        vertical-align: top;\n",
       "    }\n",
       "\n",
       "    .dataframe thead th {\n",
       "        text-align: right;\n",
       "    }\n",
       "</style>\n",
       "<table border=\"1\" class=\"dataframe\">\n",
       "  <thead>\n",
       "    <tr style=\"text-align: right;\">\n",
       "      <th></th>\n",
       "      <th>item_id</th>\n",
       "      <th>developer</th>\n",
       "      <th>title</th>\n",
       "      <th>genres</th>\n",
       "      <th>price</th>\n",
       "      <th>release_year</th>\n",
       "    </tr>\n",
       "  </thead>\n",
       "  <tbody>\n",
       "    <tr>\n",
       "      <th>74</th>\n",
       "      <td>NaN</td>\n",
       "      <td>NaN</td>\n",
       "      <td>NaN</td>\n",
       "      <td>NaN</td>\n",
       "      <td>19.99</td>\n",
       "      <td>NaN</td>\n",
       "    </tr>\n",
       "    <tr>\n",
       "      <th>30961</th>\n",
       "      <td>NaN</td>\n",
       "      <td>Rocksteady Studios,Feral Interactive (Mac)</td>\n",
       "      <td>Batman: Arkham City - Game of the Year Edition</td>\n",
       "      <td>[Action, Adventure]</td>\n",
       "      <td>19.99</td>\n",
       "      <td>2012.0</td>\n",
       "    </tr>\n",
       "  </tbody>\n",
       "</table>\n",
       "</div>"
      ],
      "text/plain": [
       "      item_id                                   developer  \\\n",
       "74        NaN                                         NaN   \n",
       "30961     NaN  Rocksteady Studios,Feral Interactive (Mac)   \n",
       "\n",
       "                                                title               genres  \\\n",
       "74                                                NaN                  NaN   \n",
       "30961  Batman: Arkham City - Game of the Year Edition  [Action, Adventure]   \n",
       "\n",
       "       price  release_year  \n",
       "74     19.99           NaN  \n",
       "30961  19.99        2012.0  "
      ]
     },
     "execution_count": 16,
     "metadata": {},
     "output_type": "execute_result"
    }
   ],
   "source": [
    "id_vacios = steam_games[steam_games['item_id'].isna()]\n",
    "id_vacios"
   ]
  },
  {
   "cell_type": "markdown",
   "metadata": {},
   "source": [
    "El registro Nro 74 no tiene informacion en casi ninguna columna por lo que no nos suma valor, decidimos eliminarla."
   ]
  },
  {
   "cell_type": "code",
   "execution_count": 17,
   "metadata": {},
   "outputs": [],
   "source": [
    "steam_games.drop(index=steam_games.index[74], inplace=True)"
   ]
  },
  {
   "cell_type": "markdown",
   "metadata": {},
   "source": [
    "Revisamos si el registro 30961 no esta repetido dentro del DataFrame segun el titulo del juego"
   ]
  },
  {
   "cell_type": "code",
   "execution_count": 18,
   "metadata": {},
   "outputs": [
    {
     "data": {
      "text/html": [
       "<div>\n",
       "<style scoped>\n",
       "    .dataframe tbody tr th:only-of-type {\n",
       "        vertical-align: middle;\n",
       "    }\n",
       "\n",
       "    .dataframe tbody tr th {\n",
       "        vertical-align: top;\n",
       "    }\n",
       "\n",
       "    .dataframe thead th {\n",
       "        text-align: right;\n",
       "    }\n",
       "</style>\n",
       "<table border=\"1\" class=\"dataframe\">\n",
       "  <thead>\n",
       "    <tr style=\"text-align: right;\">\n",
       "      <th></th>\n",
       "      <th>item_id</th>\n",
       "      <th>developer</th>\n",
       "      <th>title</th>\n",
       "      <th>genres</th>\n",
       "      <th>price</th>\n",
       "      <th>release_year</th>\n",
       "    </tr>\n",
       "  </thead>\n",
       "  <tbody>\n",
       "    <tr>\n",
       "      <th>1068</th>\n",
       "      <td>200260</td>\n",
       "      <td>Rocksteady Studios,Feral Interactive (Mac)</td>\n",
       "      <td>Batman: Arkham City - Game of the Year Edition</td>\n",
       "      <td>[Action, Adventure]</td>\n",
       "      <td>19.99</td>\n",
       "      <td>2012.0</td>\n",
       "    </tr>\n",
       "    <tr>\n",
       "      <th>30961</th>\n",
       "      <td>NaN</td>\n",
       "      <td>Rocksteady Studios,Feral Interactive (Mac)</td>\n",
       "      <td>Batman: Arkham City - Game of the Year Edition</td>\n",
       "      <td>[Action, Adventure]</td>\n",
       "      <td>19.99</td>\n",
       "      <td>2012.0</td>\n",
       "    </tr>\n",
       "  </tbody>\n",
       "</table>\n",
       "</div>"
      ],
      "text/plain": [
       "      item_id                                   developer  \\\n",
       "1068   200260  Rocksteady Studios,Feral Interactive (Mac)   \n",
       "30961     NaN  Rocksteady Studios,Feral Interactive (Mac)   \n",
       "\n",
       "                                                title               genres  \\\n",
       "1068   Batman: Arkham City - Game of the Year Edition  [Action, Adventure]   \n",
       "30961  Batman: Arkham City - Game of the Year Edition  [Action, Adventure]   \n",
       "\n",
       "       price  release_year  \n",
       "1068   19.99        2012.0  \n",
       "30961  19.99        2012.0  "
      ]
     },
     "execution_count": 18,
     "metadata": {},
     "output_type": "execute_result"
    }
   ],
   "source": [
    "steam_games[steam_games['title'] == 'Batman: Arkham City - Game of the Year Edition']"
   ]
  },
  {
   "cell_type": "markdown",
   "metadata": {},
   "source": [
    "Como vemos que ya hay un registro exactamente igual, decidimos eliminarlo. (Como ya eliminamos un registro anterior, tomamos el numero de indice 30960)"
   ]
  },
  {
   "cell_type": "code",
   "execution_count": 19,
   "metadata": {},
   "outputs": [],
   "source": [
    "steam_games.drop(index=steam_games.index[30960], inplace=True)"
   ]
  },
  {
   "cell_type": "markdown",
   "metadata": {},
   "source": [
    "## Duplicados"
   ]
  },
  {
   "cell_type": "code",
   "execution_count": 20,
   "metadata": {},
   "outputs": [
    {
     "data": {
      "text/html": [
       "<div>\n",
       "<style scoped>\n",
       "    .dataframe tbody tr th:only-of-type {\n",
       "        vertical-align: middle;\n",
       "    }\n",
       "\n",
       "    .dataframe tbody tr th {\n",
       "        vertical-align: top;\n",
       "    }\n",
       "\n",
       "    .dataframe thead th {\n",
       "        text-align: right;\n",
       "    }\n",
       "</style>\n",
       "<table border=\"1\" class=\"dataframe\">\n",
       "  <thead>\n",
       "    <tr style=\"text-align: right;\">\n",
       "      <th></th>\n",
       "      <th>item_id</th>\n",
       "      <th>developer</th>\n",
       "      <th>title</th>\n",
       "      <th>genres</th>\n",
       "      <th>price</th>\n",
       "      <th>release_year</th>\n",
       "    </tr>\n",
       "  </thead>\n",
       "  <tbody>\n",
       "    <tr>\n",
       "      <th>13894</th>\n",
       "      <td>612880</td>\n",
       "      <td>Machine Games</td>\n",
       "      <td>Wolfenstein II: The New Colossus</td>\n",
       "      <td>[Action]</td>\n",
       "      <td>59.99</td>\n",
       "      <td>2017.0</td>\n",
       "    </tr>\n",
       "    <tr>\n",
       "      <th>14573</th>\n",
       "      <td>612880</td>\n",
       "      <td>Machine Games</td>\n",
       "      <td>Wolfenstein II: The New Colossus</td>\n",
       "      <td>[Action]</td>\n",
       "      <td>59.99</td>\n",
       "      <td>2017.0</td>\n",
       "    </tr>\n",
       "  </tbody>\n",
       "</table>\n",
       "</div>"
      ],
      "text/plain": [
       "      item_id      developer                             title    genres  \\\n",
       "13894  612880  Machine Games  Wolfenstein II: The New Colossus  [Action]   \n",
       "14573  612880  Machine Games  Wolfenstein II: The New Colossus  [Action]   \n",
       "\n",
       "       price  release_year  \n",
       "13894  59.99        2017.0  \n",
       "14573  59.99        2017.0  "
      ]
     },
     "execution_count": 20,
     "metadata": {},
     "output_type": "execute_result"
    }
   ],
   "source": [
    "id_duplicados = steam_games[steam_games.duplicated(subset='item_id', keep=False)]\n",
    "id_duplicados"
   ]
  },
  {
   "cell_type": "markdown",
   "metadata": {},
   "source": [
    "Vemos que hay un registro repetido por lo que decidimos eliminar uno de ellos"
   ]
  },
  {
   "cell_type": "code",
   "execution_count": 21,
   "metadata": {},
   "outputs": [],
   "source": [
    "steam_games.drop(index=steam_games.index[13894], inplace=True)"
   ]
  },
  {
   "cell_type": "markdown",
   "metadata": {},
   "source": [
    "## Reindexamos"
   ]
  },
  {
   "cell_type": "code",
   "execution_count": 22,
   "metadata": {},
   "outputs": [],
   "source": [
    "steam_games.reset_index(drop=True, inplace=True)"
   ]
  },
  {
   "cell_type": "code",
   "execution_count": 23,
   "metadata": {},
   "outputs": [
    {
     "name": "stdout",
     "output_type": "stream",
     "text": [
      "Formato del DataFrame: (32132, 6)\n"
     ]
    }
   ],
   "source": [
    "print(f'Formato del DataFrame: {steam_games.shape}')"
   ]
  },
  {
   "cell_type": "code",
   "execution_count": 24,
   "metadata": {},
   "outputs": [
    {
     "name": "stdout",
     "output_type": "stream",
     "text": [
      "<class 'pandas.core.frame.DataFrame'>\n",
      "RangeIndex: 32132 entries, 0 to 32131\n",
      "Data columns (total 6 columns):\n",
      " #   Column        Non-Null Count  Dtype  \n",
      "---  ------        --------------  -----  \n",
      " 0   item_id       32132 non-null  object \n",
      " 1   developer     28835 non-null  object \n",
      " 2   title         30084 non-null  object \n",
      " 3   genres        28851 non-null  object \n",
      " 4   price         30755 non-null  object \n",
      " 5   release_year  29830 non-null  float64\n",
      "dtypes: float64(1), object(5)\n",
      "memory usage: 1.5+ MB\n"
     ]
    }
   ],
   "source": [
    "steam_games.info()"
   ]
  },
  {
   "cell_type": "markdown",
   "metadata": {},
   "source": [
    "# Columna developer\n",
    "\n",
    "## Vacios"
   ]
  },
  {
   "cell_type": "code",
   "execution_count": 25,
   "metadata": {},
   "outputs": [
    {
     "data": {
      "text/html": [
       "<div>\n",
       "<style scoped>\n",
       "    .dataframe tbody tr th:only-of-type {\n",
       "        vertical-align: middle;\n",
       "    }\n",
       "\n",
       "    .dataframe tbody tr th {\n",
       "        vertical-align: top;\n",
       "    }\n",
       "\n",
       "    .dataframe thead th {\n",
       "        text-align: right;\n",
       "    }\n",
       "</style>\n",
       "<table border=\"1\" class=\"dataframe\">\n",
       "  <thead>\n",
       "    <tr style=\"text-align: right;\">\n",
       "      <th></th>\n",
       "      <th>item_id</th>\n",
       "      <th>developer</th>\n",
       "      <th>title</th>\n",
       "      <th>genres</th>\n",
       "      <th>price</th>\n",
       "      <th>release_year</th>\n",
       "    </tr>\n",
       "  </thead>\n",
       "  <tbody>\n",
       "    <tr>\n",
       "      <th>4</th>\n",
       "      <td>773570</td>\n",
       "      <td>NaN</td>\n",
       "      <td>NaN</td>\n",
       "      <td>NaN</td>\n",
       "      <td>2.99</td>\n",
       "      <td>NaN</td>\n",
       "    </tr>\n",
       "    <tr>\n",
       "      <th>11</th>\n",
       "      <td>724910</td>\n",
       "      <td>NaN</td>\n",
       "      <td>NaN</td>\n",
       "      <td>NaN</td>\n",
       "      <td>Free</td>\n",
       "      <td>NaN</td>\n",
       "    </tr>\n",
       "    <tr>\n",
       "      <th>19</th>\n",
       "      <td>772590</td>\n",
       "      <td>NaN</td>\n",
       "      <td>NaN</td>\n",
       "      <td>NaN</td>\n",
       "      <td>4.99</td>\n",
       "      <td>NaN</td>\n",
       "    </tr>\n",
       "    <tr>\n",
       "      <th>20</th>\n",
       "      <td>640250</td>\n",
       "      <td>NaN</td>\n",
       "      <td>NaN</td>\n",
       "      <td>NaN</td>\n",
       "      <td>2.99</td>\n",
       "      <td>NaN</td>\n",
       "    </tr>\n",
       "    <tr>\n",
       "      <th>22</th>\n",
       "      <td>711440</td>\n",
       "      <td>NaN</td>\n",
       "      <td>NaN</td>\n",
       "      <td>NaN</td>\n",
       "      <td>0.99</td>\n",
       "      <td>NaN</td>\n",
       "    </tr>\n",
       "    <tr>\n",
       "      <th>...</th>\n",
       "      <td>...</td>\n",
       "      <td>...</td>\n",
       "      <td>...</td>\n",
       "      <td>...</td>\n",
       "      <td>...</td>\n",
       "      <td>...</td>\n",
       "    </tr>\n",
       "    <tr>\n",
       "      <th>32115</th>\n",
       "      <td>775640</td>\n",
       "      <td>NaN</td>\n",
       "      <td>Robotpencil Presents: Exercise: Brushwork</td>\n",
       "      <td>NaN</td>\n",
       "      <td>3.99</td>\n",
       "      <td>2018.0</td>\n",
       "    </tr>\n",
       "    <tr>\n",
       "      <th>32116</th>\n",
       "      <td>777930</td>\n",
       "      <td>NaN</td>\n",
       "      <td>Robotpencil Presents: Creative Composition</td>\n",
       "      <td>NaN</td>\n",
       "      <td>3.99</td>\n",
       "      <td>2018.0</td>\n",
       "    </tr>\n",
       "    <tr>\n",
       "      <th>32117</th>\n",
       "      <td>775370</td>\n",
       "      <td>NaN</td>\n",
       "      <td>The Gamble House</td>\n",
       "      <td>NaN</td>\n",
       "      <td>4.99</td>\n",
       "      <td>2016.0</td>\n",
       "    </tr>\n",
       "    <tr>\n",
       "      <th>32118</th>\n",
       "      <td>777950</td>\n",
       "      <td>NaN</td>\n",
       "      <td>Kalen Chock Presents: 2017 Free Tutorial</td>\n",
       "      <td>NaN</td>\n",
       "      <td>Free</td>\n",
       "      <td>2018.0</td>\n",
       "    </tr>\n",
       "    <tr>\n",
       "      <th>32131</th>\n",
       "      <td>681550</td>\n",
       "      <td>NaN</td>\n",
       "      <td>NaN</td>\n",
       "      <td>NaN</td>\n",
       "      <td>4.99</td>\n",
       "      <td>NaN</td>\n",
       "    </tr>\n",
       "  </tbody>\n",
       "</table>\n",
       "<p>3297 rows × 6 columns</p>\n",
       "</div>"
      ],
      "text/plain": [
       "      item_id developer                                       title genres  \\\n",
       "4      773570       NaN                                         NaN    NaN   \n",
       "11     724910       NaN                                         NaN    NaN   \n",
       "19     772590       NaN                                         NaN    NaN   \n",
       "20     640250       NaN                                         NaN    NaN   \n",
       "22     711440       NaN                                         NaN    NaN   \n",
       "...       ...       ...                                         ...    ...   \n",
       "32115  775640       NaN   Robotpencil Presents: Exercise: Brushwork    NaN   \n",
       "32116  777930       NaN  Robotpencil Presents: Creative Composition    NaN   \n",
       "32117  775370       NaN                            The Gamble House    NaN   \n",
       "32118  777950       NaN    Kalen Chock Presents: 2017 Free Tutorial    NaN   \n",
       "32131  681550       NaN                                         NaN    NaN   \n",
       "\n",
       "      price  release_year  \n",
       "4      2.99           NaN  \n",
       "11     Free           NaN  \n",
       "19     4.99           NaN  \n",
       "20     2.99           NaN  \n",
       "22     0.99           NaN  \n",
       "...     ...           ...  \n",
       "32115  3.99        2018.0  \n",
       "32116  3.99        2018.0  \n",
       "32117  4.99        2016.0  \n",
       "32118  Free        2018.0  \n",
       "32131  4.99           NaN  \n",
       "\n",
       "[3297 rows x 6 columns]"
      ]
     },
     "execution_count": 25,
     "metadata": {},
     "output_type": "execute_result"
    }
   ],
   "source": [
    "dev_vacios = steam_games[steam_games['developer'].isna()]\n",
    "dev_vacios"
   ]
  },
  {
   "cell_type": "markdown",
   "metadata": {},
   "source": [
    "En principio decidimos dejar los registros vacios ya que pueden proporcionar otro tipo de información de valor para diferentes consultas. "
   ]
  },
  {
   "cell_type": "markdown",
   "metadata": {},
   "source": [
    "## Grafico de barras\n",
    "\n",
    "Realizamos un grafico de barras del top 10 de desarrolladores con mas juegos y la cantidad de cada uno."
   ]
  },
  {
   "cell_type": "code",
   "execution_count": 60,
   "metadata": {},
   "outputs": [
    {
     "data": {
      "text/plain": [
       "developer\n",
       "Ubisoft - San Francisco       1259\n",
       "SmiteWorks USA, LLC            813\n",
       "Dovetail Games                 253\n",
       "KOEI TECMO GAMES CO., LTD.     232\n",
       "Paradox Development Studio     156\n",
       "                              ... \n",
       "Royal9Games,RoyalJL              1\n",
       "Salus Games                      1\n",
       "Class of  2016-2017              1\n",
       "Pirotexnik                       1\n",
       "Bidoniera Games                  1\n",
       "Name: count, Length: 10992, dtype: int64"
      ]
     },
     "execution_count": 60,
     "metadata": {},
     "output_type": "execute_result"
    }
   ],
   "source": [
    "# Agrupamos el DataFrame por el nombre del desarrollador y contamos la cantidad de juegos para cada uno\n",
    "juegos_por_desarrollador = steam_games['developer'].value_counts()\n",
    "juegos_por_desarrollador"
   ]
  },
  {
   "cell_type": "code",
   "execution_count": 62,
   "metadata": {},
   "outputs": [],
   "source": [
    "# Filtramos el top 10 de desarrolladores\n",
    "juegos_por_desarrollador = juegos_por_desarrollador.head(10)"
   ]
  },
  {
   "cell_type": "code",
   "execution_count": 64,
   "metadata": {},
   "outputs": [
    {
     "data": {
      "image/png": "[encoded data removed]",
      "text/plain": [
       "<Figure size 800x400 with 1 Axes>"
      ]
     },
     "metadata": {},
     "output_type": "display_data"
    }
   ],
   "source": [
    "# Creamos el gráfico de barras\n",
    "plt.figure(figsize=(8, 4))\n",
    "juegos_por_desarrollador.plot(kind='bar', color='skyblue')\n",
    "plt.title('Cantidad de Juegos por Desarrollador')\n",
    "plt.xlabel('Desarrollador')\n",
    "plt.ylabel('Cantidad de Juegos')\n",
    "plt.xticks(rotation=90)\n",
    "\n",
    "plt.show()"
   ]
  },
  {
   "cell_type": "markdown",
   "metadata": {},
   "source": [
    "# Columnas genres\n",
    "\n",
    "## Vacios"
   ]
  },
  {
   "cell_type": "code",
   "execution_count": 26,
   "metadata": {},
   "outputs": [
    {
     "data": {
      "text/html": [
       "<div>\n",
       "<style scoped>\n",
       "    .dataframe tbody tr th:only-of-type {\n",
       "        vertical-align: middle;\n",
       "    }\n",
       "\n",
       "    .dataframe tbody tr th {\n",
       "        vertical-align: top;\n",
       "    }\n",
       "\n",
       "    .dataframe thead th {\n",
       "        text-align: right;\n",
       "    }\n",
       "</style>\n",
       "<table border=\"1\" class=\"dataframe\">\n",
       "  <thead>\n",
       "    <tr style=\"text-align: right;\">\n",
       "      <th></th>\n",
       "      <th>item_id</th>\n",
       "      <th>developer</th>\n",
       "      <th>title</th>\n",
       "      <th>genres</th>\n",
       "      <th>price</th>\n",
       "      <th>release_year</th>\n",
       "    </tr>\n",
       "  </thead>\n",
       "  <tbody>\n",
       "    <tr>\n",
       "      <th>4</th>\n",
       "      <td>773570</td>\n",
       "      <td>NaN</td>\n",
       "      <td>NaN</td>\n",
       "      <td>NaN</td>\n",
       "      <td>2.99</td>\n",
       "      <td>NaN</td>\n",
       "    </tr>\n",
       "    <tr>\n",
       "      <th>11</th>\n",
       "      <td>724910</td>\n",
       "      <td>NaN</td>\n",
       "      <td>NaN</td>\n",
       "      <td>NaN</td>\n",
       "      <td>Free</td>\n",
       "      <td>NaN</td>\n",
       "    </tr>\n",
       "    <tr>\n",
       "      <th>19</th>\n",
       "      <td>772590</td>\n",
       "      <td>NaN</td>\n",
       "      <td>NaN</td>\n",
       "      <td>NaN</td>\n",
       "      <td>4.99</td>\n",
       "      <td>NaN</td>\n",
       "    </tr>\n",
       "    <tr>\n",
       "      <th>20</th>\n",
       "      <td>640250</td>\n",
       "      <td>NaN</td>\n",
       "      <td>NaN</td>\n",
       "      <td>NaN</td>\n",
       "      <td>2.99</td>\n",
       "      <td>NaN</td>\n",
       "    </tr>\n",
       "    <tr>\n",
       "      <th>22</th>\n",
       "      <td>711440</td>\n",
       "      <td>NaN</td>\n",
       "      <td>NaN</td>\n",
       "      <td>NaN</td>\n",
       "      <td>0.99</td>\n",
       "      <td>NaN</td>\n",
       "    </tr>\n",
       "    <tr>\n",
       "      <th>...</th>\n",
       "      <td>...</td>\n",
       "      <td>...</td>\n",
       "      <td>...</td>\n",
       "      <td>...</td>\n",
       "      <td>...</td>\n",
       "      <td>...</td>\n",
       "    </tr>\n",
       "    <tr>\n",
       "      <th>32115</th>\n",
       "      <td>775640</td>\n",
       "      <td>NaN</td>\n",
       "      <td>Robotpencil Presents: Exercise: Brushwork</td>\n",
       "      <td>NaN</td>\n",
       "      <td>3.99</td>\n",
       "      <td>2018.0</td>\n",
       "    </tr>\n",
       "    <tr>\n",
       "      <th>32116</th>\n",
       "      <td>777930</td>\n",
       "      <td>NaN</td>\n",
       "      <td>Robotpencil Presents: Creative Composition</td>\n",
       "      <td>NaN</td>\n",
       "      <td>3.99</td>\n",
       "      <td>2018.0</td>\n",
       "    </tr>\n",
       "    <tr>\n",
       "      <th>32117</th>\n",
       "      <td>775370</td>\n",
       "      <td>NaN</td>\n",
       "      <td>The Gamble House</td>\n",
       "      <td>NaN</td>\n",
       "      <td>4.99</td>\n",
       "      <td>2016.0</td>\n",
       "    </tr>\n",
       "    <tr>\n",
       "      <th>32118</th>\n",
       "      <td>777950</td>\n",
       "      <td>NaN</td>\n",
       "      <td>Kalen Chock Presents: 2017 Free Tutorial</td>\n",
       "      <td>NaN</td>\n",
       "      <td>Free</td>\n",
       "      <td>2018.0</td>\n",
       "    </tr>\n",
       "    <tr>\n",
       "      <th>32131</th>\n",
       "      <td>681550</td>\n",
       "      <td>NaN</td>\n",
       "      <td>NaN</td>\n",
       "      <td>NaN</td>\n",
       "      <td>4.99</td>\n",
       "      <td>NaN</td>\n",
       "    </tr>\n",
       "  </tbody>\n",
       "</table>\n",
       "<p>3281 rows × 6 columns</p>\n",
       "</div>"
      ],
      "text/plain": [
       "      item_id developer                                       title genres  \\\n",
       "4      773570       NaN                                         NaN    NaN   \n",
       "11     724910       NaN                                         NaN    NaN   \n",
       "19     772590       NaN                                         NaN    NaN   \n",
       "20     640250       NaN                                         NaN    NaN   \n",
       "22     711440       NaN                                         NaN    NaN   \n",
       "...       ...       ...                                         ...    ...   \n",
       "32115  775640       NaN   Robotpencil Presents: Exercise: Brushwork    NaN   \n",
       "32116  777930       NaN  Robotpencil Presents: Creative Composition    NaN   \n",
       "32117  775370       NaN                            The Gamble House    NaN   \n",
       "32118  777950       NaN    Kalen Chock Presents: 2017 Free Tutorial    NaN   \n",
       "32131  681550       NaN                                         NaN    NaN   \n",
       "\n",
       "      price  release_year  \n",
       "4      2.99           NaN  \n",
       "11     Free           NaN  \n",
       "19     4.99           NaN  \n",
       "20     2.99           NaN  \n",
       "22     0.99           NaN  \n",
       "...     ...           ...  \n",
       "32115  3.99        2018.0  \n",
       "32116  3.99        2018.0  \n",
       "32117  4.99        2016.0  \n",
       "32118  Free        2018.0  \n",
       "32131  4.99           NaN  \n",
       "\n",
       "[3281 rows x 6 columns]"
      ]
     },
     "execution_count": 26,
     "metadata": {},
     "output_type": "execute_result"
    }
   ],
   "source": [
    "genres_vacios = steam_games[steam_games['genres'].isna()]\n",
    "genres_vacios"
   ]
  },
  {
   "cell_type": "markdown",
   "metadata": {},
   "source": [
    "En principio decidimos dejar los registros vacios ya que pueden proporcionar otro tipo de información de valor para diferentes consultas. "
   ]
  },
  {
   "cell_type": "markdown",
   "metadata": {},
   "source": [
    "# Columna price\n",
    "\n",
    "## Vacios"
   ]
  },
  {
   "cell_type": "code",
   "execution_count": 27,
   "metadata": {},
   "outputs": [
    {
     "data": {
      "text/html": [
       "<div>\n",
       "<style scoped>\n",
       "    .dataframe tbody tr th:only-of-type {\n",
       "        vertical-align: middle;\n",
       "    }\n",
       "\n",
       "    .dataframe tbody tr th {\n",
       "        vertical-align: top;\n",
       "    }\n",
       "\n",
       "    .dataframe thead th {\n",
       "        text-align: right;\n",
       "    }\n",
       "</style>\n",
       "<table border=\"1\" class=\"dataframe\">\n",
       "  <thead>\n",
       "    <tr style=\"text-align: right;\">\n",
       "      <th></th>\n",
       "      <th>item_id</th>\n",
       "      <th>developer</th>\n",
       "      <th>title</th>\n",
       "      <th>genres</th>\n",
       "      <th>price</th>\n",
       "      <th>release_year</th>\n",
       "    </tr>\n",
       "  </thead>\n",
       "  <tbody>\n",
       "    <tr>\n",
       "      <th>9</th>\n",
       "      <td>768800</td>\n",
       "      <td>RewindApp</td>\n",
       "      <td>Race</td>\n",
       "      <td>[Casual, Indie, Racing, Simulation]</td>\n",
       "      <td>NaN</td>\n",
       "      <td>2018.0</td>\n",
       "    </tr>\n",
       "    <tr>\n",
       "      <th>10</th>\n",
       "      <td>768570</td>\n",
       "      <td>Qucheza</td>\n",
       "      <td>Uncanny Islands</td>\n",
       "      <td>[Action, Indie, Simulation, Early Access]</td>\n",
       "      <td>NaN</td>\n",
       "      <td>NaN</td>\n",
       "    </tr>\n",
       "    <tr>\n",
       "      <th>31</th>\n",
       "      <td>520680</td>\n",
       "      <td>BlueLine Games</td>\n",
       "      <td>Lost Cities</td>\n",
       "      <td>[Casual, Indie, Strategy]</td>\n",
       "      <td>NaN</td>\n",
       "      <td>2018.0</td>\n",
       "    </tr>\n",
       "    <tr>\n",
       "      <th>32</th>\n",
       "      <td>690410</td>\n",
       "      <td>Games by Brundle</td>\n",
       "      <td>Twisted Enhanced Edition</td>\n",
       "      <td>[Action]</td>\n",
       "      <td>NaN</td>\n",
       "      <td>2018.0</td>\n",
       "    </tr>\n",
       "    <tr>\n",
       "      <th>34</th>\n",
       "      <td>413120</td>\n",
       "      <td>ProjectorGames</td>\n",
       "      <td>Tactics Forever</td>\n",
       "      <td>[Action, Casual, Indie, Massively Multiplayer,...</td>\n",
       "      <td>NaN</td>\n",
       "      <td>2018.0</td>\n",
       "    </tr>\n",
       "    <tr>\n",
       "      <th>...</th>\n",
       "      <td>...</td>\n",
       "      <td>...</td>\n",
       "      <td>...</td>\n",
       "      <td>...</td>\n",
       "      <td>...</td>\n",
       "      <td>...</td>\n",
       "    </tr>\n",
       "    <tr>\n",
       "      <th>32096</th>\n",
       "      <td>771070</td>\n",
       "      <td>Picorinne Soft</td>\n",
       "      <td>Infinos Gaiden</td>\n",
       "      <td>[Action, Indie]</td>\n",
       "      <td>NaN</td>\n",
       "      <td>2018.0</td>\n",
       "    </tr>\n",
       "    <tr>\n",
       "      <th>32108</th>\n",
       "      <td>90007</td>\n",
       "      <td>I.O.S. Team</td>\n",
       "      <td>International Online Soccer</td>\n",
       "      <td>[Sports]</td>\n",
       "      <td>NaN</td>\n",
       "      <td>2002.0</td>\n",
       "    </tr>\n",
       "    <tr>\n",
       "      <th>32120</th>\n",
       "      <td>772180</td>\n",
       "      <td>VersoVR</td>\n",
       "      <td>Cricket Club</td>\n",
       "      <td>[Casual, Indie, Simulation, Sports, Early Access]</td>\n",
       "      <td>NaN</td>\n",
       "      <td>NaN</td>\n",
       "    </tr>\n",
       "    <tr>\n",
       "      <th>32122</th>\n",
       "      <td>771810</td>\n",
       "      <td>Retro Army Limited</td>\n",
       "      <td>The spy who shot me™</td>\n",
       "      <td>[Action, Adventure, Indie]</td>\n",
       "      <td>NaN</td>\n",
       "      <td>2018.0</td>\n",
       "    </tr>\n",
       "    <tr>\n",
       "      <th>32125</th>\n",
       "      <td>769330</td>\n",
       "      <td>Riviysky</td>\n",
       "      <td>BAE 2</td>\n",
       "      <td>[Casual, Indie]</td>\n",
       "      <td>NaN</td>\n",
       "      <td>2018.0</td>\n",
       "    </tr>\n",
       "  </tbody>\n",
       "</table>\n",
       "<p>1377 rows × 6 columns</p>\n",
       "</div>"
      ],
      "text/plain": [
       "      item_id           developer                        title  \\\n",
       "9      768800           RewindApp                         Race   \n",
       "10     768570             Qucheza              Uncanny Islands   \n",
       "31     520680      BlueLine Games                  Lost Cities   \n",
       "32     690410    Games by Brundle     Twisted Enhanced Edition   \n",
       "34     413120      ProjectorGames              Tactics Forever   \n",
       "...       ...                 ...                          ...   \n",
       "32096  771070      Picorinne Soft               Infinos Gaiden   \n",
       "32108   90007         I.O.S. Team  International Online Soccer   \n",
       "32120  772180             VersoVR                 Cricket Club   \n",
       "32122  771810  Retro Army Limited         The spy who shot me™   \n",
       "32125  769330            Riviysky                        BAE 2   \n",
       "\n",
       "                                                  genres price  release_year  \n",
       "9                    [Casual, Indie, Racing, Simulation]   NaN        2018.0  \n",
       "10             [Action, Indie, Simulation, Early Access]   NaN           NaN  \n",
       "31                             [Casual, Indie, Strategy]   NaN        2018.0  \n",
       "32                                              [Action]   NaN        2018.0  \n",
       "34     [Action, Casual, Indie, Massively Multiplayer,...   NaN        2018.0  \n",
       "...                                                  ...   ...           ...  \n",
       "32096                                    [Action, Indie]   NaN        2018.0  \n",
       "32108                                           [Sports]   NaN        2002.0  \n",
       "32120  [Casual, Indie, Simulation, Sports, Early Access]   NaN           NaN  \n",
       "32122                         [Action, Adventure, Indie]   NaN        2018.0  \n",
       "32125                                    [Casual, Indie]   NaN        2018.0  \n",
       "\n",
       "[1377 rows x 6 columns]"
      ]
     },
     "execution_count": 27,
     "metadata": {},
     "output_type": "execute_result"
    }
   ],
   "source": [
    "price_vacios = steam_games[steam_games['price'].isna()]\n",
    "price_vacios"
   ]
  },
  {
   "cell_type": "markdown",
   "metadata": {},
   "source": [
    "Decidimos reemplazar los valores NaN por el valor 0.00 para poder realizar los calculos correspondientes en cada consulta."
   ]
  },
  {
   "cell_type": "code",
   "execution_count": 28,
   "metadata": {},
   "outputs": [],
   "source": [
    "steam_games['price'] = steam_games['price'].fillna('0.00')"
   ]
  },
  {
   "cell_type": "markdown",
   "metadata": {},
   "source": [
    "Revisamos los valores de la columna para ver que otras modificaciones debemos realizar"
   ]
  },
  {
   "cell_type": "code",
   "execution_count": 29,
   "metadata": {},
   "outputs": [
    {
     "data": {
      "text/plain": [
       "array([4.99, 'Free To Play', 'Free to Play', 0.99, 2.99, 3.99, 9.99,\n",
       "       18.99, 29.99, '0.00', 'Free', 10.99, 1.59, 14.99, 1.99, 59.99,\n",
       "       8.99, 6.99, 7.99, 39.99, 19.99, 7.49, 12.99, 5.99, 2.49, 15.99,\n",
       "       1.25, 24.99, 17.99, 61.99, 3.49, 11.99, 13.99, 'Free Demo',\n",
       "       'Play for Free!', 34.99, 74.76, 1.49, 32.99, 99.99, 14.95, 69.99,\n",
       "       16.99, 79.99, 49.99, 5.0, 44.99, 13.98, 29.96, 119.99, 109.99,\n",
       "       149.99, 771.71, 'Install Now', 21.99, 89.99,\n",
       "       'Play WARMACHINE: Tactics Demo', 0.98, 139.92, 4.29, 64.99,\n",
       "       'Free Mod', 54.99, 74.99, 'Install Theme', 0.89, 'Third-party',\n",
       "       0.5, 'Play Now', 299.99, 1.29, 3.0, 15.0, 5.49, 23.99, 49.0, 20.99,\n",
       "       10.93, 1.39, 'Free HITMAN™ Holiday Pack', 36.99, 4.49, 2.0, 4.0,\n",
       "       9.0, 234.99, 1.95, 1.5, 199.0, 189.0, 6.66, 27.99, 10.49, 129.99,\n",
       "       179.0, 26.99, 399.99, 31.99, 399.0, 20.0, 40.0, 3.33, 199.99,\n",
       "       22.99, 320.0, 38.85, 71.7, 59.95, 995.0, 27.49, 3.39, 6.0, 19.95,\n",
       "       499.99, 16.06, 4.68, 131.4, 44.98, 202.76, 1.0, 2.3, 0.95, 172.24,\n",
       "       249.99, 2.97, 10.96, 10.0, 30.0, 2.66, 6.48, 19.29, 11.15, 18.9,\n",
       "       2.89, 'Play the Demo', 99.0, 87.94, 599.0, 8.98, 9.69, 0.49, 9.98,\n",
       "       9.95, 7.0, 'Starting at $499.00', 'Starting at $449.00', 12.89,\n",
       "       6.49, 1.87, 42.99, 41.99, 289.99, 'Free to Try', 23.96, 5.65, 12.0,\n",
       "       13.37, 189.96, 124.99, 'Free Movie', 19.98, 160.91, 'Free to Use'],\n",
       "      dtype=object)"
      ]
     },
     "execution_count": 29,
     "metadata": {},
     "output_type": "execute_result"
    }
   ],
   "source": [
    "steam_games['price'].unique()"
   ]
  },
  {
   "cell_type": "markdown",
   "metadata": {},
   "source": [
    "Vemos algunas categorias a modificar, por ejemplo:\n",
    "\n",
    "- Juegos gratuitos con los valores de:\n",
    "    - 'Free To Play'\n",
    "    - 'Free'\n",
    "    - 'Free Demo'\n",
    "    - 'Free Mod'\n",
    "    - 'Free HITMAN™ Holiday Pack'\n",
    "    - 'Free to Try'\n",
    "    - 'Free Movie'\n",
    "    - 'Free to Use'\n",
    "    - 'Play WARMACHINE: Tactics Demo'\n",
    "    - 'Play the Demo'\n",
    "\n",
    "Vemos que las palabras que se repiten son 'Free' y 'Demo' por lo que decidimos crear una funcion para que me reemplace los valores por 0.00, ademas, modficamos los valores que tengan palabras y numeros para extraer unicamente la parte numerica.\n",
    "\n",
    "Por ultimo, hay 3 categorias\n",
    "\n",
    "- 'Install Now'\n",
    "- 'Play Now'\n",
    "- 'Install Theme'\n",
    "\n",
    "que tambien decidimos reemplazar por 0.00"
   ]
  },
  {
   "cell_type": "code",
   "execution_count": 30,
   "metadata": {},
   "outputs": [],
   "source": [
    "# Definimos la función para reemplazar palabras por cero\n",
    "def reemplazar_palabras_por_cero(valor):\n",
    "    if isinstance(valor, str):\n",
    "        # Reemplaza 'Free' y 'Demo' por '0.00'\n",
    "        if 'Free' in valor or 'Demo' in valor or 'Install' in valor or 'Now' in valor:\n",
    "            return '0.00'\n",
    "        \n",
    "        # Utiliza una expresión regular para extraer valores numéricos de las cadenas\n",
    "        match = re.search(r'\\d+\\.\\d{2}', valor)\n",
    "        if match:\n",
    "            return match.group()\n",
    "    \n",
    "    return valor\n",
    "\n",
    "steam_games['price'] = steam_games['price'].apply(reemplazar_palabras_por_cero)"
   ]
  },
  {
   "cell_type": "code",
   "execution_count": 31,
   "metadata": {},
   "outputs": [
    {
     "data": {
      "text/plain": [
       "array([4.99, '0.00', 0.99, 2.99, 3.99, 9.99, 18.99, 29.99, 10.99, 1.59,\n",
       "       14.99, 1.99, 59.99, 8.99, 6.99, 7.99, 39.99, 19.99, 7.49, 12.99,\n",
       "       5.99, 2.49, 15.99, 1.25, 24.99, 17.99, 61.99, 3.49, 11.99, 13.99,\n",
       "       34.99, 74.76, 1.49, 32.99, 99.99, 14.95, 69.99, 16.99, 79.99,\n",
       "       49.99, 5.0, 44.99, 13.98, 29.96, 119.99, 109.99, 149.99, 771.71,\n",
       "       21.99, 89.99, 0.98, 139.92, 4.29, 64.99, 54.99, 74.99, 0.89,\n",
       "       'Third-party', 0.5, 299.99, 1.29, 3.0, 15.0, 5.49, 23.99, 49.0,\n",
       "       20.99, 10.93, 1.39, 36.99, 4.49, 2.0, 4.0, 9.0, 234.99, 1.95, 1.5,\n",
       "       199.0, 189.0, 6.66, 27.99, 10.49, 129.99, 179.0, 26.99, 399.99,\n",
       "       31.99, 399.0, 20.0, 40.0, 3.33, 199.99, 22.99, 320.0, 38.85, 71.7,\n",
       "       59.95, 995.0, 27.49, 3.39, 6.0, 19.95, 499.99, 16.06, 4.68, 131.4,\n",
       "       44.98, 202.76, 1.0, 2.3, 0.95, 172.24, 249.99, 2.97, 10.96, 10.0,\n",
       "       30.0, 2.66, 6.48, 19.29, 11.15, 18.9, 2.89, 99.0, 87.94, 599.0,\n",
       "       8.98, 9.69, 0.49, 9.98, 9.95, 7.0, '499.00', '449.00', 12.89, 6.49,\n",
       "       1.87, 42.99, 41.99, 289.99, 23.96, 5.65, 12.0, 13.37, 189.96,\n",
       "       124.99, 19.98, 160.91], dtype=object)"
      ]
     },
     "execution_count": 31,
     "metadata": {},
     "output_type": "execute_result"
    }
   ],
   "source": [
    "steam_games['price'].unique()"
   ]
  },
  {
   "cell_type": "markdown",
   "metadata": {},
   "source": [
    "Por ultimo, revisamos el valor 'Third-party' para ver que hacer con ese registro."
   ]
  },
  {
   "cell_type": "code",
   "execution_count": 32,
   "metadata": {},
   "outputs": [
    {
     "data": {
      "text/html": [
       "<div>\n",
       "<style scoped>\n",
       "    .dataframe tbody tr th:only-of-type {\n",
       "        vertical-align: middle;\n",
       "    }\n",
       "\n",
       "    .dataframe tbody tr th {\n",
       "        vertical-align: top;\n",
       "    }\n",
       "\n",
       "    .dataframe thead th {\n",
       "        text-align: right;\n",
       "    }\n",
       "</style>\n",
       "<table border=\"1\" class=\"dataframe\">\n",
       "  <thead>\n",
       "    <tr style=\"text-align: right;\">\n",
       "      <th></th>\n",
       "      <th>item_id</th>\n",
       "      <th>developer</th>\n",
       "      <th>title</th>\n",
       "      <th>genres</th>\n",
       "      <th>price</th>\n",
       "      <th>release_year</th>\n",
       "    </tr>\n",
       "  </thead>\n",
       "  <tbody>\n",
       "    <tr>\n",
       "      <th>3917</th>\n",
       "      <td>362970</td>\n",
       "      <td>Polar Bunny Ltd</td>\n",
       "      <td>Parcel - Soundtrack</td>\n",
       "      <td>[Indie]</td>\n",
       "      <td>Third-party</td>\n",
       "      <td>2015.0</td>\n",
       "    </tr>\n",
       "    <tr>\n",
       "      <th>31835</th>\n",
       "      <td>3483</td>\n",
       "      <td>PopCap Games, Inc.</td>\n",
       "      <td>Peggle Extreme</td>\n",
       "      <td>[Casual]</td>\n",
       "      <td>Third-party</td>\n",
       "      <td>2007.0</td>\n",
       "    </tr>\n",
       "  </tbody>\n",
       "</table>\n",
       "</div>"
      ],
      "text/plain": [
       "      item_id           developer                title    genres        price  \\\n",
       "3917   362970     Polar Bunny Ltd  Parcel - Soundtrack   [Indie]  Third-party   \n",
       "31835    3483  PopCap Games, Inc.       Peggle Extreme  [Casual]  Third-party   \n",
       "\n",
       "       release_year  \n",
       "3917         2015.0  \n",
       "31835        2007.0  "
      ]
     },
     "execution_count": 32,
     "metadata": {},
     "output_type": "execute_result"
    }
   ],
   "source": [
    "steam_games[steam_games['price'] == 'Third-party']"
   ]
  },
  {
   "cell_type": "markdown",
   "metadata": {},
   "source": [
    "Vemos que son solo 2 registros, y que se refieren a que son items manejados por otra empresa, por lo que decidimos eliminarlos de nuestro dataset."
   ]
  },
  {
   "cell_type": "code",
   "execution_count": 33,
   "metadata": {},
   "outputs": [],
   "source": [
    "steam_games = steam_games.drop(steam_games[steam_games['price'] == 'Third-party'].index)"
   ]
  },
  {
   "cell_type": "code",
   "execution_count": 34,
   "metadata": {},
   "outputs": [
    {
     "data": {
      "text/plain": [
       "array([4.99, '0.00', 0.99, 2.99, 3.99, 9.99, 18.99, 29.99, 10.99, 1.59,\n",
       "       14.99, 1.99, 59.99, 8.99, 6.99, 7.99, 39.99, 19.99, 7.49, 12.99,\n",
       "       5.99, 2.49, 15.99, 1.25, 24.99, 17.99, 61.99, 3.49, 11.99, 13.99,\n",
       "       34.99, 74.76, 1.49, 32.99, 99.99, 14.95, 69.99, 16.99, 79.99,\n",
       "       49.99, 5.0, 44.99, 13.98, 29.96, 119.99, 109.99, 149.99, 771.71,\n",
       "       21.99, 89.99, 0.98, 139.92, 4.29, 64.99, 54.99, 74.99, 0.89, 0.5,\n",
       "       299.99, 1.29, 3.0, 15.0, 5.49, 23.99, 49.0, 20.99, 10.93, 1.39,\n",
       "       36.99, 4.49, 2.0, 4.0, 9.0, 234.99, 1.95, 1.5, 199.0, 189.0, 6.66,\n",
       "       27.99, 10.49, 129.99, 179.0, 26.99, 399.99, 31.99, 399.0, 20.0,\n",
       "       40.0, 3.33, 199.99, 22.99, 320.0, 38.85, 71.7, 59.95, 995.0, 27.49,\n",
       "       3.39, 6.0, 19.95, 499.99, 16.06, 4.68, 131.4, 44.98, 202.76, 1.0,\n",
       "       2.3, 0.95, 172.24, 249.99, 2.97, 10.96, 10.0, 30.0, 2.66, 6.48,\n",
       "       19.29, 11.15, 18.9, 2.89, 99.0, 87.94, 599.0, 8.98, 9.69, 0.49,\n",
       "       9.98, 9.95, 7.0, '499.00', '449.00', 12.89, 6.49, 1.87, 42.99,\n",
       "       41.99, 289.99, 23.96, 5.65, 12.0, 13.37, 189.96, 124.99, 19.98,\n",
       "       160.91], dtype=object)"
      ]
     },
     "execution_count": 34,
     "metadata": {},
     "output_type": "execute_result"
    }
   ],
   "source": [
    "steam_games.price.unique()"
   ]
  },
  {
   "cell_type": "markdown",
   "metadata": {},
   "source": [
    "### Modificamos el tipo de dato por float"
   ]
  },
  {
   "cell_type": "code",
   "execution_count": 35,
   "metadata": {},
   "outputs": [],
   "source": [
    "steam_games['price'] = steam_games['price'].astype(float)"
   ]
  },
  {
   "cell_type": "code",
   "execution_count": 36,
   "metadata": {},
   "outputs": [
    {
     "name": "stdout",
     "output_type": "stream",
     "text": [
      "<class 'pandas.core.frame.DataFrame'>\n",
      "Index: 32130 entries, 0 to 32131\n",
      "Data columns (total 6 columns):\n",
      " #   Column        Non-Null Count  Dtype  \n",
      "---  ------        --------------  -----  \n",
      " 0   item_id       32130 non-null  object \n",
      " 1   developer     28833 non-null  object \n",
      " 2   title         30082 non-null  object \n",
      " 3   genres        28849 non-null  object \n",
      " 4   price         32130 non-null  float64\n",
      " 5   release_year  29828 non-null  float64\n",
      "dtypes: float64(2), object(4)\n",
      "memory usage: 1.7+ MB\n"
     ]
    }
   ],
   "source": [
    "steam_games.info()"
   ]
  },
  {
   "cell_type": "markdown",
   "metadata": {},
   "source": [
    "## Outliers\n",
    "\n",
    "Realizamos un grafico de boxplot para verificar si existen outliers en la columna price"
   ]
  },
  {
   "cell_type": "code",
   "execution_count": 37,
   "metadata": {},
   "outputs": [
    {
     "data": {
      "image/png": "[encoded data removed]",
      "text/plain": [
       "<Figure size 800x600 with 1 Axes>"
      ]
     },
     "metadata": {},
     "output_type": "display_data"
    }
   ],
   "source": [
    "plt.figure(figsize=(8, 6))\n",
    "plt.boxplot(steam_games['price'], vert=False, sym='r+')\n",
    "plt.title(\"Boxplot de la columna 'price'\")\n",
    "plt.xlabel(\"Price\")\n",
    "plt.show()"
   ]
  },
  {
   "cell_type": "markdown",
   "metadata": {},
   "source": [
    "Al detectar que existen outliers, realizamos un grafico de scatter plot para analizarlos un poco mejor."
   ]
  },
  {
   "cell_type": "code",
   "execution_count": 38,
   "metadata": {},
   "outputs": [
    {
     "data": {
      "image/png": "[encoded data removed]",
      "text/plain": [
       "<Figure size 800x600 with 1 Axes>"
      ]
     },
     "metadata": {},
     "output_type": "display_data"
    }
   ],
   "source": [
    "plt.figure(figsize=(8, 6))\n",
    "plt.scatter(range(len(steam_games['price'])), steam_games['price'])\n",
    "plt.title(\"Gráfico de dispersión de la columna 'price'\")\n",
    "plt.xlabel(\"Índice\")\n",
    "plt.ylabel(\"Price\")\n",
    "plt.show()"
   ]
  },
  {
   "cell_type": "markdown",
   "metadata": {},
   "source": [
    "Filtramos el DataFrame para ver los registros cuyo precio supera los 200 USD"
   ]
  },
  {
   "cell_type": "code",
   "execution_count": 39,
   "metadata": {},
   "outputs": [
    {
     "data": {
      "text/html": [
       "<div>\n",
       "<style scoped>\n",
       "    .dataframe tbody tr th:only-of-type {\n",
       "        vertical-align: middle;\n",
       "    }\n",
       "\n",
       "    .dataframe tbody tr th {\n",
       "        vertical-align: top;\n",
       "    }\n",
       "\n",
       "    .dataframe thead th {\n",
       "        text-align: right;\n",
       "    }\n",
       "</style>\n",
       "<table border=\"1\" class=\"dataframe\">\n",
       "  <thead>\n",
       "    <tr style=\"text-align: right;\">\n",
       "      <th></th>\n",
       "      <th>item_id</th>\n",
       "      <th>developer</th>\n",
       "      <th>title</th>\n",
       "      <th>genres</th>\n",
       "      <th>price</th>\n",
       "      <th>release_year</th>\n",
       "    </tr>\n",
       "  </thead>\n",
       "  <tbody>\n",
       "    <tr>\n",
       "      <th>2391</th>\n",
       "      <td>292180</td>\n",
       "      <td>Laminar Research</td>\n",
       "      <td>X-Plane 10 Global - 64 Bit</td>\n",
       "      <td>[Simulation]</td>\n",
       "      <td>771.71</td>\n",
       "      <td>2014.0</td>\n",
       "    </tr>\n",
       "    <tr>\n",
       "      <th>4444</th>\n",
       "      <td>401090</td>\n",
       "      <td>The Foundry</td>\n",
       "      <td>MODO indie 10</td>\n",
       "      <td>[Animation &amp;amp; Modeling, Design &amp;amp; Illust...</td>\n",
       "      <td>299.99</td>\n",
       "      <td>2015.0</td>\n",
       "    </tr>\n",
       "    <tr>\n",
       "      <th>6861</th>\n",
       "      <td>377350</td>\n",
       "      <td>Chessbase</td>\n",
       "      <td>ChessBase 13 Pro</td>\n",
       "      <td>NaN</td>\n",
       "      <td>234.99</td>\n",
       "      <td>2016.0</td>\n",
       "    </tr>\n",
       "    <tr>\n",
       "      <th>9073</th>\n",
       "      <td>585620</td>\n",
       "      <td>YoYo Games Ltd.</td>\n",
       "      <td>GameMaker Studio 2 Mobile</td>\n",
       "      <td>[Animation &amp;amp; Modeling, Design &amp;amp; Illust...</td>\n",
       "      <td>399.99</td>\n",
       "      <td>2017.0</td>\n",
       "    </tr>\n",
       "    <tr>\n",
       "      <th>9074</th>\n",
       "      <td>585610</td>\n",
       "      <td>YoYo Games Ltd.</td>\n",
       "      <td>GameMaker Studio 2 UWP</td>\n",
       "      <td>[Animation &amp;amp; Modeling, Design &amp;amp; Illust...</td>\n",
       "      <td>399.99</td>\n",
       "      <td>2017.0</td>\n",
       "    </tr>\n",
       "    <tr>\n",
       "      <th>9416</th>\n",
       "      <td>598860</td>\n",
       "      <td>MAGIX Software GmbH</td>\n",
       "      <td>MAGIX Video Pro X8 Steam Edition</td>\n",
       "      <td>[Video Production]</td>\n",
       "      <td>399.00</td>\n",
       "      <td>2017.0</td>\n",
       "    </tr>\n",
       "    <tr>\n",
       "      <th>11734</th>\n",
       "      <td>707410</td>\n",
       "      <td>CLO Virtual Fashion</td>\n",
       "      <td>Marvelous Designer 7 For Steam</td>\n",
       "      <td>[Animation &amp;amp; Modeling, Design &amp;amp; Illust...</td>\n",
       "      <td>320.00</td>\n",
       "      <td>2017.0</td>\n",
       "    </tr>\n",
       "    <tr>\n",
       "      <th>12087</th>\n",
       "      <td>719000</td>\n",
       "      <td>Strata Mixed Reality, Inc.</td>\n",
       "      <td>Strata Spaces VR – Professional Edition Upgrade</td>\n",
       "      <td>[Animation &amp;amp; Modeling, Design &amp;amp; Illust...</td>\n",
       "      <td>995.00</td>\n",
       "      <td>2017.0</td>\n",
       "    </tr>\n",
       "    <tr>\n",
       "      <th>13754</th>\n",
       "      <td>750840</td>\n",
       "      <td>MAGIX Software GmbH</td>\n",
       "      <td>MAGIX Video Pro X9 Steam Edition</td>\n",
       "      <td>[Video Production]</td>\n",
       "      <td>399.00</td>\n",
       "      <td>2017.0</td>\n",
       "    </tr>\n",
       "    <tr>\n",
       "      <th>14302</th>\n",
       "      <td>691560</td>\n",
       "      <td>RUHRSOURCE GmbH</td>\n",
       "      <td>CUR3D Maker Edition - Permission for commercia...</td>\n",
       "      <td>[Animation &amp;amp; Modeling, Design &amp;amp; Illust...</td>\n",
       "      <td>499.99</td>\n",
       "      <td>2017.0</td>\n",
       "    </tr>\n",
       "    <tr>\n",
       "      <th>15392</th>\n",
       "      <td>442120</td>\n",
       "      <td>Zen Studios</td>\n",
       "      <td>Pinball FX3</td>\n",
       "      <td>[Simulation]</td>\n",
       "      <td>202.76</td>\n",
       "      <td>2017.0</td>\n",
       "    </tr>\n",
       "    <tr>\n",
       "      <th>15844</th>\n",
       "      <td>689790</td>\n",
       "      <td>MAGIX Software GmbH</td>\n",
       "      <td>VEGAS Pro 15 Edit Steam Edition</td>\n",
       "      <td>[Audio Production, Video Production]</td>\n",
       "      <td>399.00</td>\n",
       "      <td>2017.0</td>\n",
       "    </tr>\n",
       "    <tr>\n",
       "      <th>17636</th>\n",
       "      <td>571690</td>\n",
       "      <td>Holotech Studios</td>\n",
       "      <td>FaceRig Studio - Personal</td>\n",
       "      <td>[Animation &amp;amp; Modeling, Video Production]</td>\n",
       "      <td>299.99</td>\n",
       "      <td>2017.0</td>\n",
       "    </tr>\n",
       "    <tr>\n",
       "      <th>17791</th>\n",
       "      <td>629795</td>\n",
       "      <td>CCP</td>\n",
       "      <td>EVE Online: 7430 PLEX</td>\n",
       "      <td>[Free to Play, Massively Multiplayer, RPG]</td>\n",
       "      <td>249.99</td>\n",
       "      <td>2017.0</td>\n",
       "    </tr>\n",
       "    <tr>\n",
       "      <th>17792</th>\n",
       "      <td>629796</td>\n",
       "      <td>CCP</td>\n",
       "      <td>EVE Online: 15400 PLEX</td>\n",
       "      <td>[Free to Play, Massively Multiplayer, RPG]</td>\n",
       "      <td>499.99</td>\n",
       "      <td>2017.0</td>\n",
       "    </tr>\n",
       "    <tr>\n",
       "      <th>23592</th>\n",
       "      <td>358040</td>\n",
       "      <td>NaN</td>\n",
       "      <td>HTC Vive</td>\n",
       "      <td>NaN</td>\n",
       "      <td>599.00</td>\n",
       "      <td>2016.0</td>\n",
       "    </tr>\n",
       "    <tr>\n",
       "      <th>24998</th>\n",
       "      <td>353420</td>\n",
       "      <td>NaN</td>\n",
       "      <td>Syber Steam Machine</td>\n",
       "      <td>NaN</td>\n",
       "      <td>499.00</td>\n",
       "      <td>2015.0</td>\n",
       "    </tr>\n",
       "    <tr>\n",
       "      <th>24999</th>\n",
       "      <td>353390</td>\n",
       "      <td>NaN</td>\n",
       "      <td>Alienware Steam Machine</td>\n",
       "      <td>NaN</td>\n",
       "      <td>449.00</td>\n",
       "      <td>2015.0</td>\n",
       "    </tr>\n",
       "    <tr>\n",
       "      <th>26850</th>\n",
       "      <td>366190</td>\n",
       "      <td>Ambiera e.U.</td>\n",
       "      <td>CopperCube - Professional Edition</td>\n",
       "      <td>[Animation &amp;amp; Modeling, Design &amp;amp; Illust...</td>\n",
       "      <td>289.99</td>\n",
       "      <td>2015.0</td>\n",
       "    </tr>\n",
       "    <tr>\n",
       "      <th>29564</th>\n",
       "      <td>267810</td>\n",
       "      <td>Clickteam</td>\n",
       "      <td>Clickteam Fusion 2.5 Developer Upgrade</td>\n",
       "      <td>[Animation &amp;amp; Modeling, Education, Utilitie...</td>\n",
       "      <td>299.99</td>\n",
       "      <td>2014.0</td>\n",
       "    </tr>\n",
       "  </tbody>\n",
       "</table>\n",
       "</div>"
      ],
      "text/plain": [
       "      item_id                   developer  \\\n",
       "2391   292180            Laminar Research   \n",
       "4444   401090                 The Foundry   \n",
       "6861   377350                   Chessbase   \n",
       "9073   585620             YoYo Games Ltd.   \n",
       "9074   585610             YoYo Games Ltd.   \n",
       "9416   598860         MAGIX Software GmbH   \n",
       "11734  707410         CLO Virtual Fashion   \n",
       "12087  719000  Strata Mixed Reality, Inc.   \n",
       "13754  750840         MAGIX Software GmbH   \n",
       "14302  691560             RUHRSOURCE GmbH   \n",
       "15392  442120                 Zen Studios   \n",
       "15844  689790         MAGIX Software GmbH   \n",
       "17636  571690            Holotech Studios   \n",
       "17791  629795                         CCP   \n",
       "17792  629796                         CCP   \n",
       "23592  358040                         NaN   \n",
       "24998  353420                         NaN   \n",
       "24999  353390                         NaN   \n",
       "26850  366190                Ambiera e.U.   \n",
       "29564  267810                   Clickteam   \n",
       "\n",
       "                                                   title  \\\n",
       "2391                          X-Plane 10 Global - 64 Bit   \n",
       "4444                                       MODO indie 10   \n",
       "6861                                    ChessBase 13 Pro   \n",
       "9073                           GameMaker Studio 2 Mobile   \n",
       "9074                              GameMaker Studio 2 UWP   \n",
       "9416                    MAGIX Video Pro X8 Steam Edition   \n",
       "11734                     Marvelous Designer 7 For Steam   \n",
       "12087    Strata Spaces VR – Professional Edition Upgrade   \n",
       "13754                   MAGIX Video Pro X9 Steam Edition   \n",
       "14302  CUR3D Maker Edition - Permission for commercia...   \n",
       "15392                                        Pinball FX3   \n",
       "15844                    VEGAS Pro 15 Edit Steam Edition   \n",
       "17636                          FaceRig Studio - Personal   \n",
       "17791                              EVE Online: 7430 PLEX   \n",
       "17792                             EVE Online: 15400 PLEX   \n",
       "23592                                           HTC Vive   \n",
       "24998                                Syber Steam Machine   \n",
       "24999                            Alienware Steam Machine   \n",
       "26850                  CopperCube - Professional Edition   \n",
       "29564             Clickteam Fusion 2.5 Developer Upgrade   \n",
       "\n",
       "                                                  genres   price  release_year  \n",
       "2391                                        [Simulation]  771.71        2014.0  \n",
       "4444   [Animation &amp; Modeling, Design &amp; Illust...  299.99        2015.0  \n",
       "6861                                                 NaN  234.99        2016.0  \n",
       "9073   [Animation &amp; Modeling, Design &amp; Illust...  399.99        2017.0  \n",
       "9074   [Animation &amp; Modeling, Design &amp; Illust...  399.99        2017.0  \n",
       "9416                                  [Video Production]  399.00        2017.0  \n",
       "11734  [Animation &amp; Modeling, Design &amp; Illust...  320.00        2017.0  \n",
       "12087  [Animation &amp; Modeling, Design &amp; Illust...  995.00        2017.0  \n",
       "13754                                 [Video Production]  399.00        2017.0  \n",
       "14302  [Animation &amp; Modeling, Design &amp; Illust...  499.99        2017.0  \n",
       "15392                                       [Simulation]  202.76        2017.0  \n",
       "15844               [Audio Production, Video Production]  399.00        2017.0  \n",
       "17636       [Animation &amp; Modeling, Video Production]  299.99        2017.0  \n",
       "17791         [Free to Play, Massively Multiplayer, RPG]  249.99        2017.0  \n",
       "17792         [Free to Play, Massively Multiplayer, RPG]  499.99        2017.0  \n",
       "23592                                                NaN  599.00        2016.0  \n",
       "24998                                                NaN  499.00        2015.0  \n",
       "24999                                                NaN  449.00        2015.0  \n",
       "26850  [Animation &amp; Modeling, Design &amp; Illust...  289.99        2015.0  \n",
       "29564  [Animation &amp; Modeling, Education, Utilitie...  299.99        2014.0  "
      ]
     },
     "execution_count": 39,
     "metadata": {},
     "output_type": "execute_result"
    }
   ],
   "source": [
    "steam_games[steam_games['price'] > 200]"
   ]
  },
  {
   "cell_type": "markdown",
   "metadata": {},
   "source": [
    "No vemos que sean errores sino simplemente items cuyo valor es mas alto, por lo que decidimos mantenerlos en nuestro dataset"
   ]
  },
  {
   "cell_type": "markdown",
   "metadata": {},
   "source": [
    "## Grafico de torta\n",
    "\n",
    "Realizamos un grafico de torta para visualizar la diferencia entre la cantidad de juegos pagos vs la cantidad de juegos gratuitos que tiene la plataforma."
   ]
  },
  {
   "cell_type": "code",
   "execution_count": 54,
   "metadata": {},
   "outputs": [
    {
     "data": {
      "image/png": "[encoded data removed]",
      "text/plain": [
       "<Figure size 400x400 with 1 Axes>"
      ]
     },
     "metadata": {},
     "output_type": "display_data"
    }
   ],
   "source": [
    "# Contar la cantidad de juegos con precio (no gratuitos) y juegos gratuitos\n",
    "cantidad_pagos = len(steam_games[steam_games['price'] != 0.00])\n",
    "cantidad_gratuitos = len(steam_games[steam_games['price'] == 0.00])\n",
    "\n",
    "# Etiquetas para las categorías\n",
    "categorias = ['Juegos Pagos', 'Juegos Gratuitos']\n",
    "\n",
    "# Datos de cada categoría\n",
    "datos = [cantidad_pagos, cantidad_gratuitos]\n",
    "\n",
    "# Crea el gráfico circular\n",
    "plt.figure(figsize=(4, 4))\n",
    "plt.pie(datos, labels=categorias, autopct='%1.2f%%', startangle=140)\n",
    "plt.title('Proporción de Juegos Pagos vs. Juegos Gratuitos')\n",
    "\n",
    "plt.show()\n"
   ]
  },
  {
   "cell_type": "markdown",
   "metadata": {},
   "source": [
    "# Columna release_year\n",
    "\n",
    "## Vacios"
   ]
  },
  {
   "cell_type": "code",
   "execution_count": 86,
   "metadata": {},
   "outputs": [
    {
     "data": {
      "text/html": [
       "<div>\n",
       "<style scoped>\n",
       "    .dataframe tbody tr th:only-of-type {\n",
       "        vertical-align: middle;\n",
       "    }\n",
       "\n",
       "    .dataframe tbody tr th {\n",
       "        vertical-align: top;\n",
       "    }\n",
       "\n",
       "    .dataframe thead th {\n",
       "        text-align: right;\n",
       "    }\n",
       "</style>\n",
       "<table border=\"1\" class=\"dataframe\">\n",
       "  <thead>\n",
       "    <tr style=\"text-align: right;\">\n",
       "      <th></th>\n",
       "      <th>item_id</th>\n",
       "      <th>developer</th>\n",
       "      <th>title</th>\n",
       "      <th>genres</th>\n",
       "      <th>price</th>\n",
       "      <th>release_year</th>\n",
       "    </tr>\n",
       "  </thead>\n",
       "  <tbody>\n",
       "    <tr>\n",
       "      <th>4</th>\n",
       "      <td>773570</td>\n",
       "      <td>NaN</td>\n",
       "      <td>NaN</td>\n",
       "      <td>NaN</td>\n",
       "      <td>2.99</td>\n",
       "      <td>NaN</td>\n",
       "    </tr>\n",
       "    <tr>\n",
       "      <th>10</th>\n",
       "      <td>768570</td>\n",
       "      <td>Qucheza</td>\n",
       "      <td>Uncanny Islands</td>\n",
       "      <td>[Action, Indie, Simulation, Early Access]</td>\n",
       "      <td>0.00</td>\n",
       "      <td>NaN</td>\n",
       "    </tr>\n",
       "    <tr>\n",
       "      <th>11</th>\n",
       "      <td>724910</td>\n",
       "      <td>NaN</td>\n",
       "      <td>NaN</td>\n",
       "      <td>NaN</td>\n",
       "      <td>0.00</td>\n",
       "      <td>NaN</td>\n",
       "    </tr>\n",
       "    <tr>\n",
       "      <th>19</th>\n",
       "      <td>772590</td>\n",
       "      <td>NaN</td>\n",
       "      <td>NaN</td>\n",
       "      <td>NaN</td>\n",
       "      <td>4.99</td>\n",
       "      <td>NaN</td>\n",
       "    </tr>\n",
       "    <tr>\n",
       "      <th>20</th>\n",
       "      <td>640250</td>\n",
       "      <td>NaN</td>\n",
       "      <td>NaN</td>\n",
       "      <td>NaN</td>\n",
       "      <td>2.99</td>\n",
       "      <td>NaN</td>\n",
       "    </tr>\n",
       "    <tr>\n",
       "      <th>...</th>\n",
       "      <td>...</td>\n",
       "      <td>...</td>\n",
       "      <td>...</td>\n",
       "      <td>...</td>\n",
       "      <td>...</td>\n",
       "      <td>...</td>\n",
       "    </tr>\n",
       "    <tr>\n",
       "      <th>32081</th>\n",
       "      <td>755540</td>\n",
       "      <td>NaN</td>\n",
       "      <td>NaN</td>\n",
       "      <td>NaN</td>\n",
       "      <td>0.00</td>\n",
       "      <td>NaN</td>\n",
       "    </tr>\n",
       "    <tr>\n",
       "      <th>32083</th>\n",
       "      <td>755830</td>\n",
       "      <td>Greyson Richey,Nicholas Lives</td>\n",
       "      <td>Lonely Astronaut</td>\n",
       "      <td>[Action, Casual, Indie, Simulation]</td>\n",
       "      <td>0.00</td>\n",
       "      <td>NaN</td>\n",
       "    </tr>\n",
       "    <tr>\n",
       "      <th>32084</th>\n",
       "      <td>708070</td>\n",
       "      <td>rechargecomplete</td>\n",
       "      <td>RECHARGE COMPLETE</td>\n",
       "      <td>[Action, Adventure, Indie, Early Access]</td>\n",
       "      <td>0.00</td>\n",
       "      <td>NaN</td>\n",
       "    </tr>\n",
       "    <tr>\n",
       "      <th>32119</th>\n",
       "      <td>772180</td>\n",
       "      <td>VersoVR</td>\n",
       "      <td>Cricket Club</td>\n",
       "      <td>[Casual, Indie, Simulation, Sports, Early Access]</td>\n",
       "      <td>0.00</td>\n",
       "      <td>NaN</td>\n",
       "    </tr>\n",
       "    <tr>\n",
       "      <th>32130</th>\n",
       "      <td>681550</td>\n",
       "      <td>NaN</td>\n",
       "      <td>NaN</td>\n",
       "      <td>NaN</td>\n",
       "      <td>4.99</td>\n",
       "      <td>NaN</td>\n",
       "    </tr>\n",
       "  </tbody>\n",
       "</table>\n",
       "<p>2302 rows × 6 columns</p>\n",
       "</div>"
      ],
      "text/plain": [
       "      item_id                      developer              title  \\\n",
       "4      773570                            NaN                NaN   \n",
       "10     768570                        Qucheza    Uncanny Islands   \n",
       "11     724910                            NaN                NaN   \n",
       "19     772590                            NaN                NaN   \n",
       "20     640250                            NaN                NaN   \n",
       "...       ...                            ...                ...   \n",
       "32081  755540                            NaN                NaN   \n",
       "32083  755830  Greyson Richey,Nicholas Lives   Lonely Astronaut   \n",
       "32084  708070               rechargecomplete  RECHARGE COMPLETE   \n",
       "32119  772180                        VersoVR       Cricket Club   \n",
       "32130  681550                            NaN                NaN   \n",
       "\n",
       "                                                  genres  price  release_year  \n",
       "4                                                    NaN   2.99           NaN  \n",
       "10             [Action, Indie, Simulation, Early Access]   0.00           NaN  \n",
       "11                                                   NaN   0.00           NaN  \n",
       "19                                                   NaN   4.99           NaN  \n",
       "20                                                   NaN   2.99           NaN  \n",
       "...                                                  ...    ...           ...  \n",
       "32081                                                NaN   0.00           NaN  \n",
       "32083                [Action, Casual, Indie, Simulation]   0.00           NaN  \n",
       "32084           [Action, Adventure, Indie, Early Access]   0.00           NaN  \n",
       "32119  [Casual, Indie, Simulation, Sports, Early Access]   0.00           NaN  \n",
       "32130                                                NaN   4.99           NaN  \n",
       "\n",
       "[2302 rows x 6 columns]"
      ]
     },
     "execution_count": 86,
     "metadata": {},
     "output_type": "execute_result"
    }
   ],
   "source": [
    "steam_games[steam_games['release_year'].isnull()]"
   ]
  },
  {
   "cell_type": "markdown",
   "metadata": {},
   "source": [
    "Por el momento decidimos no modificar esos registros ya que muchos nos aportan otra informacion de valor. "
   ]
  },
  {
   "cell_type": "markdown",
   "metadata": {},
   "source": [
    "## Grafico de barras \n",
    "\n",
    "Creamos un grafico de barras para visualizar la cantidad de juegos lanzados por anio"
   ]
  },
  {
   "cell_type": "code",
   "execution_count": 56,
   "metadata": {},
   "outputs": [
    {
     "data": {
      "image/png": "[encoded data removed]",
      "text/plain": [
       "<Figure size 800x400 with 1 Axes>"
      ]
     },
     "metadata": {},
     "output_type": "display_data"
    }
   ],
   "source": [
    "conteo_por_anio = steam_games['release_year'].value_counts().sort_index()\n",
    "\n",
    "# Crea el gráfico de barras\n",
    "plt.figure(figsize=(8, 4))\n",
    "plt.bar(conteo_por_anio.index, conteo_por_anio.values)\n",
    "plt.xlabel('Año')\n",
    "plt.ylabel('Cantidad de Registros')\n",
    "plt.title('Cantidad de Registros por Año')\n",
    "plt.xticks(rotation=45) \n",
    "\n",
    "plt.show()"
   ]
  },
  {
   "cell_type": "markdown",
   "metadata": {},
   "source": [
    "# Descargamos el csv"
   ]
  },
  {
   "cell_type": "code",
   "execution_count": 87,
   "metadata": {},
   "outputs": [],
   "source": [
    "steam_games.to_csv('steam_games.csv', index=False)"
   ]
  }
 ],
 "metadata": {
  "kernelspec": {
   "display_name": "Python 3",
   "language": "python",
   "name": "python3"
  },
  "language_info": {
   "codemirror_mode": {
    "name": "ipython",
    "version": 3
   },
   "file_extension": ".py",
   "mimetype": "text/x-python",
   "name": "python",
   "nbconvert_exporter": "python",
   "pygments_lexer": "ipython3",
   "version": "3.11.3"
  }
 },
 "nbformat": 4,
 "nbformat_minor": 2
}
